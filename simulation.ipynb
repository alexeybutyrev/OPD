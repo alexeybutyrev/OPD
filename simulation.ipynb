{
 "metadata": {
  "language_info": {
   "codemirror_mode": {
    "name": "ipython",
    "version": 3
   },
   "file_extension": ".py",
   "mimetype": "text/x-python",
   "name": "python",
   "nbconvert_exporter": "python",
   "pygments_lexer": "ipython3",
   "version": "3.9.6-final"
  },
  "orig_nbformat": 2,
  "kernelspec": {
   "name": "python3",
   "display_name": "Python 3.9.6 64-bit",
   "metadata": {
    "interpreter": {
     "hash": "aee8b7b246df8f9039afb4144a1f6fd8d2ca17a180786b69acc140d282b71a49"
    }
   }
  }
 },
 "nbformat": 4,
 "nbformat_minor": 2,
 "cells": [
  {
   "cell_type": "code",
   "execution_count": 1,
   "metadata": {},
   "outputs": [],
   "source": [
    "from opd.session import Session"
   ]
  },
  {
   "cell_type": "code",
   "execution_count": 2,
   "metadata": {},
   "outputs": [],
   "source": [
    "s = Session(\"metadata.json\")"
   ]
  },
  {
   "cell_type": "code",
   "execution_count": 3,
   "metadata": {},
   "outputs": [
    {
     "output_type": "execute_result",
     "data": {
      "text/plain": [
       "     frame                  timestamp                           obj1_id  \\\n",
       "0    302.0 2022-03-23 00:00:20.133333  1195b2132bda43838666e5b699b3951d   \n",
       "0    303.0 2022-03-23 00:00:20.200000  1195b2132bda43838666e5b699b3951d   \n",
       "0    304.0 2022-03-23 00:00:20.266667  1195b2132bda43838666e5b699b3951d   \n",
       "0    305.0 2022-03-23 00:00:20.333333  1195b2132bda43838666e5b699b3951d   \n",
       "0    306.0 2022-03-23 00:00:20.400000  1195b2132bda43838666e5b699b3951d   \n",
       "..     ...                        ...                               ...   \n",
       "0   1430.0 2022-03-23 00:01:35.333333  499b5e7226d9426fab3617f4157af980   \n",
       "0   1431.0 2022-03-23 00:01:35.400000  499b5e7226d9426fab3617f4157af980   \n",
       "0   1432.0 2022-03-23 00:01:35.466667  499b5e7226d9426fab3617f4157af980   \n",
       "0   1433.0 2022-03-23 00:01:35.533333  499b5e7226d9426fab3617f4157af980   \n",
       "0   1434.0 2022-03-23 00:01:35.600000  499b5e7226d9426fab3617f4157af980   \n",
       "\n",
       "                             obj2_id obj1_type obj2_type         x1  \\\n",
       "0   499b5e7226d9426fab3617f4157af980  forklift  forklift  39.708894   \n",
       "0   499b5e7226d9426fab3617f4157af980  forklift  forklift  39.040946   \n",
       "0   499b5e7226d9426fab3617f4157af980  forklift  forklift  38.568721   \n",
       "0   499b5e7226d9426fab3617f4157af980  forklift  forklift  38.456043   \n",
       "0   499b5e7226d9426fab3617f4157af980  forklift  forklift  37.853060   \n",
       "..                               ...       ...       ...        ...   \n",
       "0   630f114f1d7e45808606a3ef82ced639  forklift  forklift   8.564116   \n",
       "0   630f114f1d7e45808606a3ef82ced639  forklift  forklift   8.561094   \n",
       "0   630f114f1d7e45808606a3ef82ced639  forklift  forklift   8.555995   \n",
       "0   630f114f1d7e45808606a3ef82ced639  forklift  forklift   8.562222   \n",
       "0   630f114f1d7e45808606a3ef82ced639  forklift  forklift   8.563611   \n",
       "\n",
       "           y1         x2         y2   distance      speed  \n",
       "0   36.883011  11.378783 -55.005309  96.156427        NaN  \n",
       "0   37.506510  10.747732 -55.216486  96.943592  11.807417  \n",
       "0   37.792036  10.086290 -55.444793  97.490281   8.200301  \n",
       "0   38.407642   9.487711 -55.806435  98.567017  16.151188  \n",
       "0   35.862219   9.047253 -55.917374  96.193909 -35.596433  \n",
       "..        ...        ...        ...        ...        ...  \n",
       "0  -56.112702 -16.557571 -47.227695  26.646622  27.926695  \n",
       "0  -56.109464 -17.034366 -47.462581  27.016591   5.549500  \n",
       "0  -56.104279 -17.662678 -47.337027  27.645678   9.436265  \n",
       "0  -56.110378 -18.588459 -47.298547  28.544839  13.487551  \n",
       "0  -56.113359 -23.526897 -43.525889  34.470931  88.890928  \n",
       "\n",
       "[452 rows x 12 columns]"
      ],
      "text/html": "<div>\n<style scoped>\n    .dataframe tbody tr th:only-of-type {\n        vertical-align: middle;\n    }\n\n    .dataframe tbody tr th {\n        vertical-align: top;\n    }\n\n    .dataframe thead th {\n        text-align: right;\n    }\n</style>\n<table border=\"1\" class=\"dataframe\">\n  <thead>\n    <tr style=\"text-align: right;\">\n      <th></th>\n      <th>frame</th>\n      <th>timestamp</th>\n      <th>obj1_id</th>\n      <th>obj2_id</th>\n      <th>obj1_type</th>\n      <th>obj2_type</th>\n      <th>x1</th>\n      <th>y1</th>\n      <th>x2</th>\n      <th>y2</th>\n      <th>distance</th>\n      <th>speed</th>\n    </tr>\n  </thead>\n  <tbody>\n    <tr>\n      <th>0</th>\n      <td>302.0</td>\n      <td>2022-03-23 00:00:20.133333</td>\n      <td>1195b2132bda43838666e5b699b3951d</td>\n      <td>499b5e7226d9426fab3617f4157af980</td>\n      <td>forklift</td>\n      <td>forklift</td>\n      <td>39.708894</td>\n      <td>36.883011</td>\n      <td>11.378783</td>\n      <td>-55.005309</td>\n      <td>96.156427</td>\n      <td>NaN</td>\n    </tr>\n    <tr>\n      <th>0</th>\n      <td>303.0</td>\n      <td>2022-03-23 00:00:20.200000</td>\n      <td>1195b2132bda43838666e5b699b3951d</td>\n      <td>499b5e7226d9426fab3617f4157af980</td>\n      <td>forklift</td>\n      <td>forklift</td>\n      <td>39.040946</td>\n      <td>37.506510</td>\n      <td>10.747732</td>\n      <td>-55.216486</td>\n      <td>96.943592</td>\n      <td>11.807417</td>\n    </tr>\n    <tr>\n      <th>0</th>\n      <td>304.0</td>\n      <td>2022-03-23 00:00:20.266667</td>\n      <td>1195b2132bda43838666e5b699b3951d</td>\n      <td>499b5e7226d9426fab3617f4157af980</td>\n      <td>forklift</td>\n      <td>forklift</td>\n      <td>38.568721</td>\n      <td>37.792036</td>\n      <td>10.086290</td>\n      <td>-55.444793</td>\n      <td>97.490281</td>\n      <td>8.200301</td>\n    </tr>\n    <tr>\n      <th>0</th>\n      <td>305.0</td>\n      <td>2022-03-23 00:00:20.333333</td>\n      <td>1195b2132bda43838666e5b699b3951d</td>\n      <td>499b5e7226d9426fab3617f4157af980</td>\n      <td>forklift</td>\n      <td>forklift</td>\n      <td>38.456043</td>\n      <td>38.407642</td>\n      <td>9.487711</td>\n      <td>-55.806435</td>\n      <td>98.567017</td>\n      <td>16.151188</td>\n    </tr>\n    <tr>\n      <th>0</th>\n      <td>306.0</td>\n      <td>2022-03-23 00:00:20.400000</td>\n      <td>1195b2132bda43838666e5b699b3951d</td>\n      <td>499b5e7226d9426fab3617f4157af980</td>\n      <td>forklift</td>\n      <td>forklift</td>\n      <td>37.853060</td>\n      <td>35.862219</td>\n      <td>9.047253</td>\n      <td>-55.917374</td>\n      <td>96.193909</td>\n      <td>-35.596433</td>\n    </tr>\n    <tr>\n      <th>...</th>\n      <td>...</td>\n      <td>...</td>\n      <td>...</td>\n      <td>...</td>\n      <td>...</td>\n      <td>...</td>\n      <td>...</td>\n      <td>...</td>\n      <td>...</td>\n      <td>...</td>\n      <td>...</td>\n      <td>...</td>\n    </tr>\n    <tr>\n      <th>0</th>\n      <td>1430.0</td>\n      <td>2022-03-23 00:01:35.333333</td>\n      <td>499b5e7226d9426fab3617f4157af980</td>\n      <td>630f114f1d7e45808606a3ef82ced639</td>\n      <td>forklift</td>\n      <td>forklift</td>\n      <td>8.564116</td>\n      <td>-56.112702</td>\n      <td>-16.557571</td>\n      <td>-47.227695</td>\n      <td>26.646622</td>\n      <td>27.926695</td>\n    </tr>\n    <tr>\n      <th>0</th>\n      <td>1431.0</td>\n      <td>2022-03-23 00:01:35.400000</td>\n      <td>499b5e7226d9426fab3617f4157af980</td>\n      <td>630f114f1d7e45808606a3ef82ced639</td>\n      <td>forklift</td>\n      <td>forklift</td>\n      <td>8.561094</td>\n      <td>-56.109464</td>\n      <td>-17.034366</td>\n      <td>-47.462581</td>\n      <td>27.016591</td>\n      <td>5.549500</td>\n    </tr>\n    <tr>\n      <th>0</th>\n      <td>1432.0</td>\n      <td>2022-03-23 00:01:35.466667</td>\n      <td>499b5e7226d9426fab3617f4157af980</td>\n      <td>630f114f1d7e45808606a3ef82ced639</td>\n      <td>forklift</td>\n      <td>forklift</td>\n      <td>8.555995</td>\n      <td>-56.104279</td>\n      <td>-17.662678</td>\n      <td>-47.337027</td>\n      <td>27.645678</td>\n      <td>9.436265</td>\n    </tr>\n    <tr>\n      <th>0</th>\n      <td>1433.0</td>\n      <td>2022-03-23 00:01:35.533333</td>\n      <td>499b5e7226d9426fab3617f4157af980</td>\n      <td>630f114f1d7e45808606a3ef82ced639</td>\n      <td>forklift</td>\n      <td>forklift</td>\n      <td>8.562222</td>\n      <td>-56.110378</td>\n      <td>-18.588459</td>\n      <td>-47.298547</td>\n      <td>28.544839</td>\n      <td>13.487551</td>\n    </tr>\n    <tr>\n      <th>0</th>\n      <td>1434.0</td>\n      <td>2022-03-23 00:01:35.600000</td>\n      <td>499b5e7226d9426fab3617f4157af980</td>\n      <td>630f114f1d7e45808606a3ef82ced639</td>\n      <td>forklift</td>\n      <td>forklift</td>\n      <td>8.563611</td>\n      <td>-56.113359</td>\n      <td>-23.526897</td>\n      <td>-43.525889</td>\n      <td>34.470931</td>\n      <td>88.890928</td>\n    </tr>\n  </tbody>\n</table>\n<p>452 rows × 12 columns</p>\n</div>"
     },
     "metadata": {},
     "execution_count": 3
    }
   ],
   "source": [
    "s.stat_table"
   ]
  },
  {
   "cell_type": "code",
   "execution_count": 4,
   "metadata": {},
   "outputs": [
    {
     "output_type": "execute_result",
     "data": {
      "text/plain": [
       "'2022-03-23T00:00:00.066667'"
      ]
     },
     "metadata": {},
     "execution_count": 4
    }
   ],
   "source": [
    "s.min_time"
   ]
  },
  {
   "cell_type": "code",
   "execution_count": 6,
   "metadata": {},
   "outputs": [
    {
     "output_type": "execute_result",
     "data": {
      "text/plain": [
       "'2022-03-23T00:01:45.266667'"
      ]
     },
     "metadata": {},
     "execution_count": 6
    }
   ],
   "source": [
    "s.max_time"
   ]
  },
  {
   "cell_type": "code",
   "execution_count": 7,
   "metadata": {},
   "outputs": [
    {
     "output_type": "execute_result",
     "data": {
      "text/plain": [
       "defaultdict(<function opd.session.Session.get_distances.<locals>.<lambda>()>,\n",
       "            {})"
      ]
     },
     "metadata": {},
     "execution_count": 7
    }
   ],
   "source": [
    "s.get_distances(307)"
   ]
  },
  {
   "cell_type": "code",
   "execution_count": 8,
   "metadata": {},
   "outputs": [
    {
     "output_type": "execute_result",
     "data": {
      "text/plain": [
       "defaultdict(<function opd.session.Session.get_distances.<locals>.<lambda>()>,\n",
       "            {('197c0e2976244a6088ae2944e91b68e3',\n",
       "              '499b5e7226d9426fab3617f4157af980'): 9.572832228352153,\n",
       "             ('197c0e2976244a6088ae2944e91b68e3',\n",
       "              '1195b2132bda43838666e5b699b3951d'): 54.20453985066529})"
      ]
     },
     "metadata": {},
     "execution_count": 8
    }
   ],
   "source": [
    "s.get_distances(337)"
   ]
  },
  {
   "cell_type": "code",
   "execution_count": 9,
   "metadata": {},
   "outputs": [
    {
     "output_type": "execute_result",
     "data": {
      "text/plain": [
       "defaultdict(<function opd.session.Session.get_distances.<locals>.<lambda>()>,\n",
       "            {('197c0e2976244a6088ae2944e91b68e3',\n",
       "              '499b5e7226d9426fab3617f4157af980'): 16.276839499553503,\n",
       "             ('197c0e2976244a6088ae2944e91b68e3',\n",
       "              '1195b2132bda43838666e5b699b3951d'): 49.105328324547386})"
      ]
     },
     "metadata": {},
     "execution_count": 9
    }
   ],
   "source": [
    "s.get_distances(337,2)"
   ]
  },
  {
   "cell_type": "code",
   "execution_count": 5,
   "metadata": {},
   "outputs": [],
   "source": [
    "df = s.stat_table"
   ]
  },
  {
   "cell_type": "code",
   "execution_count": 6,
   "metadata": {},
   "outputs": [
    {
     "output_type": "execute_result",
     "data": {
      "text/plain": [
       "(452, 12)"
      ]
     },
     "metadata": {},
     "execution_count": 6
    }
   ],
   "source": [
    "df.shape"
   ]
  },
  {
   "cell_type": "code",
   "execution_count": 15,
   "metadata": {},
   "outputs": [
    {
     "output_type": "execute_result",
     "data": {
      "text/plain": [
       "{'forklift', 'person'}"
      ]
     },
     "metadata": {},
     "execution_count": 15
    }
   ],
   "source": [
    "set(df['obj2_type'])"
   ]
  },
  {
   "cell_type": "code",
   "execution_count": 4,
   "metadata": {},
   "outputs": [
    {
     "output_type": "error",
     "ename": "NameError",
     "evalue": "name 'df' is not defined",
     "traceback": [
      "\u001b[0;31m---------------------------------------------------------------------------\u001b[0m",
      "\u001b[0;31mNameError\u001b[0m                                 Traceback (most recent call last)",
      "Cell \u001b[0;32mIn [4], line 1\u001b[0m\n\u001b[0;32m----> 1\u001b[0m \u001b[43mdf\u001b[49m\u001b[38;5;241m.\u001b[39mshape\n",
      "\u001b[0;31mNameError\u001b[0m: name 'df' is not defined"
     ]
    }
   ],
   "source": [
    "df.shape"
   ]
  },
  {
   "cell_type": "code",
   "execution_count": 55,
   "metadata": {},
   "outputs": [],
   "source": [
    "search = (df['obj1_id'] == \"1195b2132bda43838666e5b699b3951d\") &  (df[\"obj2_id\"] == \"499b5e7226d9426fab3617f4157af980\")"
   ]
  },
  {
   "cell_type": "code",
   "execution_count": 71,
   "metadata": {},
   "outputs": [
    {
     "output_type": "execute_result",
     "data": {
      "text/plain": [
       "75.93274994017251"
      ]
     },
     "metadata": {},
     "execution_count": 71
    }
   ],
   "source": [
    "x = float(df[search].iloc[[-1]]['distance'])\n",
    "x"
   ]
  },
  {
   "cell_type": "code",
   "execution_count": 17,
   "metadata": {},
   "outputs": [
    {
     "output_type": "execute_result",
     "data": {
      "text/plain": [
       "<opd.detection.Detection at 0x1253ffaf0>"
      ]
     },
     "metadata": {},
     "execution_count": 17
    }
   ],
   "source": [
    "s.detections['1195b2132bda43838666e5b699b3951d']"
   ]
  },
  {
   "cell_type": "code",
   "execution_count": null,
   "metadata": {},
   "outputs": [],
   "source": []
  }
 ]
}
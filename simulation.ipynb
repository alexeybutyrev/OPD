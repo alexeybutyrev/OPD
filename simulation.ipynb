{
 "metadata": {
  "language_info": {
   "codemirror_mode": {
    "name": "ipython",
    "version": 3
   },
   "file_extension": ".py",
   "mimetype": "text/x-python",
   "name": "python",
   "nbconvert_exporter": "python",
   "pygments_lexer": "ipython3",
   "version": "3.9.6-final"
  },
  "orig_nbformat": 2,
  "kernelspec": {
   "name": "python3",
   "display_name": "Python 3.9.6 64-bit",
   "metadata": {
    "interpreter": {
     "hash": "aee8b7b246df8f9039afb4144a1f6fd8d2ca17a180786b69acc140d282b71a49"
    }
   }
  }
 },
 "nbformat": 4,
 "nbformat_minor": 2,
 "cells": [
  {
   "cell_type": "code",
   "execution_count": 3,
   "metadata": {},
   "outputs": [],
   "source": [
    "from opd.session import Session"
   ]
  },
  {
   "cell_type": "code",
   "execution_count": 4,
   "metadata": {},
   "outputs": [
    {
     "output_type": "stream",
     "name": "stdout",
     "text": [
      "README.md         metadata.json     simulation.ipynb\n\u001b[1m\u001b[34m__pycache__\u001b[m\u001b[m/      \u001b[1m\u001b[34mopd\u001b[m\u001b[m/              \u001b[1m\u001b[34mtests\u001b[m\u001b[m/\n"
     ]
    }
   ],
   "source": [
    "ls"
   ]
  },
  {
   "cell_type": "code",
   "execution_count": 5,
   "metadata": {},
   "outputs": [],
   "source": [
    "s = Session(\"metadata.json\")"
   ]
  },
  {
   "cell_type": "code",
   "execution_count": 7,
   "metadata": {},
   "outputs": [
    {
     "output_type": "execute_result",
     "data": {
      "text/plain": [
       "'2022-03-23T00:00:00.066667'"
      ]
     },
     "metadata": {},
     "execution_count": 7
    }
   ],
   "source": [
    "s.min_time"
   ]
  },
  {
   "cell_type": "code",
   "execution_count": 8,
   "metadata": {},
   "outputs": [
    {
     "output_type": "execute_result",
     "data": {
      "text/plain": [
       "'2022-03-23T00:01:45.266667'"
      ]
     },
     "metadata": {},
     "execution_count": 8
    }
   ],
   "source": [
    "s.max_time"
   ]
  },
  {
   "cell_type": "code",
   "execution_count": 9,
   "metadata": {},
   "outputs": [
    {
     "output_type": "execute_result",
     "data": {
      "text/plain": [
       "defaultdict(<function opd.session.Session.get_distances.<locals>.<lambda>()>,\n",
       "            {})"
      ]
     },
     "metadata": {},
     "execution_count": 9
    }
   ],
   "source": [
    "s.get_distances(307)"
   ]
  },
  {
   "cell_type": "code",
   "execution_count": 10,
   "metadata": {},
   "outputs": [
    {
     "output_type": "execute_result",
     "data": {
      "text/plain": [
       "defaultdict(<function opd.session.Session.get_distances.<locals>.<lambda>()>,\n",
       "            {('197c0e2976244a6088ae2944e91b68e3',\n",
       "              '499b5e7226d9426fab3617f4157af980'): 9.572832228352155,\n",
       "             ('197c0e2976244a6088ae2944e91b68e3',\n",
       "              '1195b2132bda43838666e5b699b3951d'): 54.204539850665284})"
      ]
     },
     "metadata": {},
     "execution_count": 10
    }
   ],
   "source": [
    "s.get_distances(337)"
   ]
  },
  {
   "cell_type": "code",
   "execution_count": 14,
   "metadata": {},
   "outputs": [
    {
     "output_type": "execute_result",
     "data": {
      "text/plain": [
       "defaultdict(<function opd.session.Session.get_distances.<locals>.<lambda>()>,\n",
       "            {('197c0e2976244a6088ae2944e91b68e3',\n",
       "              '499b5e7226d9426fab3617f4157af980'): 16.276839499553557,\n",
       "             ('197c0e2976244a6088ae2944e91b68e3',\n",
       "              '1195b2132bda43838666e5b699b3951d'): 49.105328324547365})"
      ]
     },
     "metadata": {},
     "execution_count": 14
    }
   ],
   "source": [
    "s.get_distances(337,2)"
   ]
  },
  {
   "cell_type": "code",
   "execution_count": null,
   "metadata": {},
   "outputs": [],
   "source": []
  }
 ]
}